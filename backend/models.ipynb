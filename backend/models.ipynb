{
 "cells": [
  {
   "cell_type": "code",
   "execution_count": 2,
   "metadata": {},
   "outputs": [],
   "source": [
    "import numpy as np\n",
    "import pandas as pd\n",
    "import re\n",
    "from transformers import T5Tokenizer, T5Model\n",
    "import sentencepiece\n",
    "import PyPDF2\n",
    "import nltk\n",
    "import torch\n",
    "import sumy"
   ]
  },
  {
   "cell_type": "markdown",
   "metadata": {},
   "source": [
    "Reading dataset"
   ]
  },
  {
   "cell_type": "code",
   "execution_count": 3,
   "metadata": {},
   "outputs": [
    {
     "data": {
      "text/html": [
       "<div>\n",
       "<style scoped>\n",
       "    .dataframe tbody tr th:only-of-type {\n",
       "        vertical-align: middle;\n",
       "    }\n",
       "\n",
       "    .dataframe tbody tr th {\n",
       "        vertical-align: top;\n",
       "    }\n",
       "\n",
       "    .dataframe thead th {\n",
       "        text-align: right;\n",
       "    }\n",
       "</style>\n",
       "<table border=\"1\" class=\"dataframe\">\n",
       "  <thead>\n",
       "    <tr style=\"text-align: right;\">\n",
       "      <th></th>\n",
       "      <th>prompt</th>\n",
       "      <th>response</th>\n",
       "    </tr>\n",
       "  </thead>\n",
       "  <tbody>\n",
       "    <tr>\n",
       "      <th>0</th>\n",
       "      <td>Job Information: Software Engineer position at a leading tech company. They require strong programming skills in Python, experience with web development, and familiarity with cloud technologies like AWS and Azure.</td>\n",
       "      <td>Cover letter for Software Engineer position:\\r\\n\\r\\nDear Hiring Manager,\\r\\nI am writing to express my strong interest in the Software Engineer position at your esteemed tech company. With a solid foundation in Python programming, extensive experience in web development, and a deep understanding of cloud technologies such as AWS and Azure, I am confident in my ability to contribute to your team's success.</td>\n",
       "    </tr>\n",
       "    <tr>\n",
       "      <th>1</th>\n",
       "      <td>Job Information: Marketing Manager role at a growing startup. They are looking for someone with a proven track record in digital marketing, excellent communication skills, and experience in managing a team.</td>\n",
       "      <td>Cover letter for Marketing Manager position:\\r\\n\\r\\nDear Hiring Team,\\r\\nI am thrilled to apply for the Marketing Manager role at your dynamic startup. With a proven track record in digital marketing, exceptional communication skills, and a history of successfully leading teams, I am excited about the opportunity to drive growth and brand awareness for your company.</td>\n",
       "    </tr>\n",
       "    <tr>\n",
       "      <th>2</th>\n",
       "      <td>Job Information: Data Scientist position in a data-driven healthcare organization. They seek candidates proficient in machine learning, statistics, and data visualization, with experience in healthcare data analysis.</td>\n",
       "      <td>Cover letter for Data Scientist position:\\r\\n\\r\\nDear Hiring Committee,\\r\\nI am writing to express my sincere interest in the Data Scientist position at your data-driven healthcare organization. With expertise in machine learning, a strong foundation in statistics, and a talent for data visualization, combined with prior experience in analyzing healthcare data, I am eager to contribute to your mission of improving healthcare outcomes through data-driven insights.</td>\n",
       "    </tr>\n",
       "    <tr>\n",
       "      <th>3</th>\n",
       "      <td>Job Information: Senior Product Designer role at a leading e-commerce company. They require a portfolio showcasing innovative design solutions, experience with UX/UI design, and the ability to lead design projects.</td>\n",
       "      <td>Cover letter for Senior Product Designer position:\\r\\n\\r\\nDear Hiring Manager,\\r\\nI am excited to apply for the Senior Product Designer role at your prominent e-commerce company. My portfolio showcases a history of delivering innovative design solutions, and my proficiency in UX/UI design aligns perfectly with your requirements. I am eager to bring my leadership skills to the table and drive design excellence within your organization.</td>\n",
       "    </tr>\n",
       "    <tr>\n",
       "      <th>4</th>\n",
       "      <td>Job Information: Financial Analyst position at a reputable financial institution. They are looking for candidates with strong analytical skills, proficiency in financial modeling, and a deep understanding of financial markets.</td>\n",
       "      <td>Cover letter for Financial Analyst position:\\r\\n\\r\\nDear Hiring Team,\\r\\nI am writing to express my keen interest in the Financial Analyst position at your esteemed financial institution. My strong analytical skills, expertise in financial modeling, and comprehensive knowledge of financial markets make me a valuable asset to your team. I am excited about the prospect of contributing to your institution's continued success.</td>\n",
       "    </tr>\n",
       "    <tr>\n",
       "      <th>...</th>\n",
       "      <td>...</td>\n",
       "      <td>...</td>\n",
       "    </tr>\n",
       "    <tr>\n",
       "      <th>203</th>\n",
       "      <td>Job Information: Tax Policy Analyst position at a think tank. They are looking for candidates with expertise in tax policy analysis, research skills, and a passion for shaping tax policies that promote economic growth and fairness.</td>\n",
       "      <td>Cover letter for Tax Policy Analyst position:\\r\\n\\r\\nDear Hiring Committee,\\r\\nI am honored to apply for the Tax Policy Analyst position at your influential think tank. With expertise in tax policy analysis, research skills, and a passionate commitment to shaping tax policies that promote economic growth, fairness, and fiscal responsibility, I am ready to contribute to evidence-based policy recommendations and informed public discourse.</td>\n",
       "    </tr>\n",
       "    <tr>\n",
       "      <th>204</th>\n",
       "      <td>Job Information: State and Local Tax Manager role at a consulting firm. They require candidates with state and local tax expertise, experience in tax compliance, and a focus on helping clients navigate complex state and local tax regulations.</td>\n",
       "      <td>Cover letter for State and Local Tax Manager position:\\r\\n\\r\\nDear Hiring Team,\\r\\nI am excited about the opportunity to apply for the State and Local Tax Manager role at your respected consulting firm. With state and local tax expertise, experience in tax compliance, and a dedicated focus on helping clients navigate complex state and local tax regulations to achieve compliance and minimize liabilities, I am eager to lead your state and local tax practice.</td>\n",
       "    </tr>\n",
       "    <tr>\n",
       "      <th>205</th>\n",
       "      <td>Job Information: Tax Investigator position at a government tax agency. They seek candidates with investigative skills, knowledge of tax fraud detection, and a commitment to enforcing tax laws and regulations.</td>\n",
       "      <td>Cover letter for Tax Investigator position:\\r\\n\\r\\nDear Hiring Manager,\\r\\nI am writing to express my strong interest in the Tax Investigator position at your government tax agency. With investigative skills, knowledge of tax fraud detection techniques, and a steadfast commitment to enforcing tax laws and regulations to protect public revenue, I am ready to conduct thorough investigations and uphold the integrity of our tax system.</td>\n",
       "    </tr>\n",
       "    <tr>\n",
       "      <th>206</th>\n",
       "      <td>Job Information: International Trade Lawyer role at a law firm specializing in international trade law. They are looking for candidates with expertise in trade regulations, experience in trade dispute resolution, and a focus on facilitating international trade transactions.</td>\n",
       "      <td>Cover letter for International Trade Lawyer position:\\r\\n\\r\\nDear Hiring Committee,\\r\\nI am enthusiastic about the opportunity to apply for the International Trade Lawyer role at your esteemed law firm specializing in international trade law. With expertise in trade regulations, experience in trade dispute resolution, and a dedicated focus on facilitating international trade transactions that benefit clients and promote global commerce, I am ready to contribute to your firm's success in international trade law.</td>\n",
       "    </tr>\n",
       "    <tr>\n",
       "      <th>207</th>\n",
       "      <td>Job Information: Tax Technology Specialist position at a technology consultancy. They require candidates with tax technology expertise, knowledge of automation tools, and a commitment to helping clients streamline tax processes through technology.</td>\n",
       "      <td>Cover letter for Tax Technology Specialist position:\\r\\n\\r\\nDear Hiring Team,\\r\\nI am honored to apply for the Tax Technology Specialist position at your innovative technology consultancy. With tax technology expertise, knowledge of automation tools, and a steadfast commitment to helping clients streamline tax processes through technology solutions that enhance efficiency and accuracy, I am eager to contribute to your firm's mission of driving digital transformation in taxation.</td>\n",
       "    </tr>\n",
       "  </tbody>\n",
       "</table>\n",
       "<p>208 rows × 2 columns</p>\n",
       "</div>"
      ],
      "text/plain": [
       "                                                                                                                                                                                                                                                                                 prompt  \\\n",
       "0                                                                 Job Information: Software Engineer position at a leading tech company. They require strong programming skills in Python, experience with web development, and familiarity with cloud technologies like AWS and Azure.   \n",
       "1                                                                        Job Information: Marketing Manager role at a growing startup. They are looking for someone with a proven track record in digital marketing, excellent communication skills, and experience in managing a team.   \n",
       "2                                                              Job Information: Data Scientist position in a data-driven healthcare organization. They seek candidates proficient in machine learning, statistics, and data visualization, with experience in healthcare data analysis.   \n",
       "3                                                                Job Information: Senior Product Designer role at a leading e-commerce company. They require a portfolio showcasing innovative design solutions, experience with UX/UI design, and the ability to lead design projects.   \n",
       "4                                                    Job Information: Financial Analyst position at a reputable financial institution. They are looking for candidates with strong analytical skills, proficiency in financial modeling, and a deep understanding of financial markets.   \n",
       "..                                                                                                                                                                                                                                                                                  ...   \n",
       "203                                             Job Information: Tax Policy Analyst position at a think tank. They are looking for candidates with expertise in tax policy analysis, research skills, and a passion for shaping tax policies that promote economic growth and fairness.   \n",
       "204                                  Job Information: State and Local Tax Manager role at a consulting firm. They require candidates with state and local tax expertise, experience in tax compliance, and a focus on helping clients navigate complex state and local tax regulations.   \n",
       "205                                                                    Job Information: Tax Investigator position at a government tax agency. They seek candidates with investigative skills, knowledge of tax fraud detection, and a commitment to enforcing tax laws and regulations.   \n",
       "206  Job Information: International Trade Lawyer role at a law firm specializing in international trade law. They are looking for candidates with expertise in trade regulations, experience in trade dispute resolution, and a focus on facilitating international trade transactions.   \n",
       "207                             Job Information: Tax Technology Specialist position at a technology consultancy. They require candidates with tax technology expertise, knowledge of automation tools, and a commitment to helping clients streamline tax processes through technology.   \n",
       "\n",
       "                                                                                                                                                                                                                                                                                                                                                                                                                                                                                                                                 response  \n",
       "0                                                                                                                Cover letter for Software Engineer position:\\r\\n\\r\\nDear Hiring Manager,\\r\\nI am writing to express my strong interest in the Software Engineer position at your esteemed tech company. With a solid foundation in Python programming, extensive experience in web development, and a deep understanding of cloud technologies such as AWS and Azure, I am confident in my ability to contribute to your team's success.  \n",
       "1                                                                                                                                                        Cover letter for Marketing Manager position:\\r\\n\\r\\nDear Hiring Team,\\r\\nI am thrilled to apply for the Marketing Manager role at your dynamic startup. With a proven track record in digital marketing, exceptional communication skills, and a history of successfully leading teams, I am excited about the opportunity to drive growth and brand awareness for your company.  \n",
       "2                                                     Cover letter for Data Scientist position:\\r\\n\\r\\nDear Hiring Committee,\\r\\nI am writing to express my sincere interest in the Data Scientist position at your data-driven healthcare organization. With expertise in machine learning, a strong foundation in statistics, and a talent for data visualization, combined with prior experience in analyzing healthcare data, I am eager to contribute to your mission of improving healthcare outcomes through data-driven insights.  \n",
       "3                                                                                  Cover letter for Senior Product Designer position:\\r\\n\\r\\nDear Hiring Manager,\\r\\nI am excited to apply for the Senior Product Designer role at your prominent e-commerce company. My portfolio showcases a history of delivering innovative design solutions, and my proficiency in UX/UI design aligns perfectly with your requirements. I am eager to bring my leadership skills to the table and drive design excellence within your organization.  \n",
       "4                                                                                              Cover letter for Financial Analyst position:\\r\\n\\r\\nDear Hiring Team,\\r\\nI am writing to express my keen interest in the Financial Analyst position at your esteemed financial institution. My strong analytical skills, expertise in financial modeling, and comprehensive knowledge of financial markets make me a valuable asset to your team. I am excited about the prospect of contributing to your institution's continued success.  \n",
       "..                                                                                                                                                                                                                                                                                                                                                                                                                                                                                                                                    ...  \n",
       "203                                                                              Cover letter for Tax Policy Analyst position:\\r\\n\\r\\nDear Hiring Committee,\\r\\nI am honored to apply for the Tax Policy Analyst position at your influential think tank. With expertise in tax policy analysis, research skills, and a passionate commitment to shaping tax policies that promote economic growth, fairness, and fiscal responsibility, I am ready to contribute to evidence-based policy recommendations and informed public discourse.  \n",
       "204                                                          Cover letter for State and Local Tax Manager position:\\r\\n\\r\\nDear Hiring Team,\\r\\nI am excited about the opportunity to apply for the State and Local Tax Manager role at your respected consulting firm. With state and local tax expertise, experience in tax compliance, and a dedicated focus on helping clients navigate complex state and local tax regulations to achieve compliance and minimize liabilities, I am eager to lead your state and local tax practice.  \n",
       "205                                                                                   Cover letter for Tax Investigator position:\\r\\n\\r\\nDear Hiring Manager,\\r\\nI am writing to express my strong interest in the Tax Investigator position at your government tax agency. With investigative skills, knowledge of tax fraud detection techniques, and a steadfast commitment to enforcing tax laws and regulations to protect public revenue, I am ready to conduct thorough investigations and uphold the integrity of our tax system.  \n",
       "206  Cover letter for International Trade Lawyer position:\\r\\n\\r\\nDear Hiring Committee,\\r\\nI am enthusiastic about the opportunity to apply for the International Trade Lawyer role at your esteemed law firm specializing in international trade law. With expertise in trade regulations, experience in trade dispute resolution, and a dedicated focus on facilitating international trade transactions that benefit clients and promote global commerce, I am ready to contribute to your firm's success in international trade law.  \n",
       "207                                   Cover letter for Tax Technology Specialist position:\\r\\n\\r\\nDear Hiring Team,\\r\\nI am honored to apply for the Tax Technology Specialist position at your innovative technology consultancy. With tax technology expertise, knowledge of automation tools, and a steadfast commitment to helping clients streamline tax processes through technology solutions that enhance efficiency and accuracy, I am eager to contribute to your firm's mission of driving digital transformation in taxation.  \n",
       "\n",
       "[208 rows x 2 columns]"
      ]
     },
     "execution_count": 3,
     "metadata": {},
     "output_type": "execute_result"
    }
   ],
   "source": [
    "df = pd.read_csv(\"datasets/train.csv\")\n",
    "pd.set_option('max_colwidth', 800)\n",
    "df"
   ]
  },
  {
   "cell_type": "markdown",
   "metadata": {},
   "source": [
    "Cleaning"
   ]
  },
  {
   "cell_type": "code",
   "execution_count": 4,
   "metadata": {},
   "outputs": [],
   "source": [
    "def clean(text):\n",
    "    text = re.sub(r\"\\b(\\d{3})[-.]?(\\d{3})[-.]?(\\d{4})\\b\", \"\", text) # Removes Phone Number\n",
    "    text = re.sub(r\"\\b(\\d{10})\\b\", \"\", text) # Removes Phone Number P2\n",
    "    text = re.sub(r\"\\b[A-Za-z0-9._%+-]+@[A-Za-z0-9.-]+\\.[A-Za-z]{2,}\\b\", \"\", text) # Removes Email\n",
    "    text = re.sub(\"http[s]?\\://\\S+\",\"\",text) # Removes Links\n",
    "    text = re.sub(r\"(\\r)|(\\n)\", text) # Removes escape characters\n",
    "    return text"
   ]
  },
  {
   "cell_type": "markdown",
   "metadata": {},
   "source": [
    "Model"
   ]
  },
  {
   "cell_type": "code",
   "execution_count": 8,
   "metadata": {},
   "outputs": [
    {
     "ename": "ImportError",
     "evalue": "\nT5Tokenizer requires the SentencePiece library but it was not found in your environment. Checkout the instructions on the\ninstallation page of its repo: https://github.com/google/sentencepiece#installation and follow the ones\nthat match your environment. Please note that you may need to restart your runtime after installation.\n",
     "output_type": "error",
     "traceback": [
      "\u001b[1;31m---------------------------------------------------------------------------\u001b[0m",
      "\u001b[1;31mImportError\u001b[0m                               Traceback (most recent call last)",
      "Cell \u001b[1;32mIn[8], line 1\u001b[0m\n\u001b[1;32m----> 1\u001b[0m tokenizer \u001b[38;5;241m=\u001b[39m T5Tokenizer\u001b[38;5;241m.\u001b[39mfrom_pretrained(\u001b[38;5;124m\"\u001b[39m\u001b[38;5;124mt5-base\u001b[39m\u001b[38;5;124m\"\u001b[39m)\n\u001b[0;32m      2\u001b[0m model \u001b[38;5;241m=\u001b[39m T5Model\u001b[38;5;241m.\u001b[39mfrom_pretrained(\u001b[38;5;124m\"\u001b[39m\u001b[38;5;124mt5-base\u001b[39m\u001b[38;5;124m\"\u001b[39m)\n",
      "File \u001b[1;32mc:\\Users\\affan\\anaconda3\\envs\\summary-generator\\Lib\\site-packages\\transformers\\utils\\import_utils.py:1070\u001b[0m, in \u001b[0;36mDummyObject.__getattribute__\u001b[1;34m(cls, key)\u001b[0m\n\u001b[0;32m   1068\u001b[0m \u001b[38;5;28;01mif\u001b[39;00m key\u001b[38;5;241m.\u001b[39mstartswith(\u001b[38;5;124m\"\u001b[39m\u001b[38;5;124m_\u001b[39m\u001b[38;5;124m\"\u001b[39m) \u001b[38;5;129;01mand\u001b[39;00m key \u001b[38;5;241m!=\u001b[39m \u001b[38;5;124m\"\u001b[39m\u001b[38;5;124m_from_config\u001b[39m\u001b[38;5;124m\"\u001b[39m:\n\u001b[0;32m   1069\u001b[0m     \u001b[38;5;28;01mreturn\u001b[39;00m \u001b[38;5;28msuper\u001b[39m()\u001b[38;5;241m.\u001b[39m\u001b[38;5;21m__getattribute__\u001b[39m(key)\n\u001b[1;32m-> 1070\u001b[0m requires_backends(\u001b[38;5;28mcls\u001b[39m, \u001b[38;5;28mcls\u001b[39m\u001b[38;5;241m.\u001b[39m_backends)\n",
      "File \u001b[1;32mc:\\Users\\affan\\anaconda3\\envs\\summary-generator\\Lib\\site-packages\\transformers\\utils\\import_utils.py:1058\u001b[0m, in \u001b[0;36mrequires_backends\u001b[1;34m(obj, backends)\u001b[0m\n\u001b[0;32m   1056\u001b[0m failed \u001b[38;5;241m=\u001b[39m [msg\u001b[38;5;241m.\u001b[39mformat(name) \u001b[38;5;28;01mfor\u001b[39;00m available, msg \u001b[38;5;129;01min\u001b[39;00m checks \u001b[38;5;28;01mif\u001b[39;00m \u001b[38;5;129;01mnot\u001b[39;00m available()]\n\u001b[0;32m   1057\u001b[0m \u001b[38;5;28;01mif\u001b[39;00m failed:\n\u001b[1;32m-> 1058\u001b[0m     \u001b[38;5;28;01mraise\u001b[39;00m \u001b[38;5;167;01mImportError\u001b[39;00m(\u001b[38;5;124m\"\u001b[39m\u001b[38;5;124m\"\u001b[39m\u001b[38;5;241m.\u001b[39mjoin(failed))\n",
      "\u001b[1;31mImportError\u001b[0m: \nT5Tokenizer requires the SentencePiece library but it was not found in your environment. Checkout the instructions on the\ninstallation page of its repo: https://github.com/google/sentencepiece#installation and follow the ones\nthat match your environment. Please note that you may need to restart your runtime after installation.\n"
     ]
    }
   ],
   "source": [
    "tokenizer = T5Tokenizer.from_pretrained(\"t5-base\")\n",
    "model = T5Model.from_pretrained(\"t5-base\")"
   ]
  }
 ],
 "metadata": {
  "kernelspec": {
   "display_name": "summary-generator",
   "language": "python",
   "name": "python3"
  },
  "language_info": {
   "codemirror_mode": {
    "name": "ipython",
    "version": 3
   },
   "file_extension": ".py",
   "mimetype": "text/x-python",
   "name": "python",
   "nbconvert_exporter": "python",
   "pygments_lexer": "ipython3",
   "version": "3.11.5"
  }
 },
 "nbformat": 4,
 "nbformat_minor": 2
}
